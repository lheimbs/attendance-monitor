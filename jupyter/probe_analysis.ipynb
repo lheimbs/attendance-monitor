{
 "cells": [
  {
   "cell_type": "code",
   "execution_count": null,
   "metadata": {},
   "outputs": [],
   "source": [
    "%load_ext autoreload\n",
    "%autoreload 2"
   ]
  },
  {
   "cell_type": "code",
   "execution_count": null,
   "metadata": {},
   "outputs": [],
   "source": [
    "import sqlite3\n",
    "import os\n",
    "import pandas as pd\n",
    "import numpy as np\n",
    "import matplotlib.pyplot as plt\n",
    "import scipy as sp\n",
    "#import chart_studio.plotly as py\n",
    "import plotly.express as px\n",
    "from datetime import datetime"
   ]
  },
  {
   "cell_type": "code",
   "execution_count": 6,
   "metadata": {},
   "outputs": [],
   "source": [
    "paths = [\"../probes.db\", \"../../../data.db\"]\n",
    "data = None\n",
    "for path in paths:\n",
    "    if os.path.exists(path):\n",
    "        with sqlite3.connect(path) as connection:\n",
    "            c = connection.cursor()\n",
    "            c.execute(\"select * from 'probe-request' limit 500000\")\n",
    "            d = c.fetchall()\n",
    "            data = []\n",
    "            for vals in d:\n",
    "                vals = list(vals)\n",
    "                vals[0] = datetime.fromisoformat(vals[0])\n",
    "                data.append(vals)\n",
    "        break"
   ]
  },
  {
   "cell_type": "code",
   "execution_count": 7,
   "metadata": {},
   "outputs": [],
   "source": [
    "if data:\n",
    "    data = pd.DataFrame(data, columns=['datetime', 'mac', 'make', 'ssid', 'ssid_caps', 'dbm'])"
   ]
  },
  {
   "cell_type": "code",
   "execution_count": 8,
   "metadata": {},
   "outputs": [
    {
     "output_type": "execute_result",
     "data": {
      "text/plain": "                         datetime                mac             make ssid  \\\n0      2020-03-23 12:21:59.531987  80:19:34:ac:7d:17  Intel Corporate        \n1      2020-03-30 12:10:58.450316  d2:3a:a0:a0:fd:2a          UNKNOWN        \n2      2020-03-30 12:11:25.636282  0c:70:4a:ff:52:91          UNKNOWN        \n3      2020-03-30 12:11:26.087794  0c:70:4a:ff:52:91          UNKNOWN        \n4      2020-03-30 12:12:45.368070  1c:91:48:98:88:4a      Apple, Inc.        \n...                           ...                ...              ...  ...   \n499995 2020-06-22 16:59:24.350042  2a:cf:5e:c6:de:0c          UNKNOWN        \n499996 2020-06-22 16:59:24.494246  2a:cf:5e:c6:de:0c          UNKNOWN        \n499997 2020-06-22 16:59:27.536261  b8:90:47:1a:31:f4          UNKNOWN        \n499998 2020-06-22 16:59:27.641724  b8:90:47:1a:31:f4          UNKNOWN        \n499999 2020-06-22 16:59:29.888430  4a:ba:39:77:ac:7c          UNKNOWN        \n\n       ssid_caps   dbm  \n0                -20.0  \n1                -70.0  \n2                -83.0  \n3                -80.0  \n4                -87.0  \n...          ...   ...  \n499995           -57.0  \n499996           -56.0  \n499997           -64.0  \n499998           -65.0  \n499999           -65.0  \n\n[500000 rows x 6 columns]",
      "text/html": "<div>\n<style scoped>\n    .dataframe tbody tr th:only-of-type {\n        vertical-align: middle;\n    }\n\n    .dataframe tbody tr th {\n        vertical-align: top;\n    }\n\n    .dataframe thead th {\n        text-align: right;\n    }\n</style>\n<table border=\"1\" class=\"dataframe\">\n  <thead>\n    <tr style=\"text-align: right;\">\n      <th></th>\n      <th>datetime</th>\n      <th>mac</th>\n      <th>make</th>\n      <th>ssid</th>\n      <th>ssid_caps</th>\n      <th>dbm</th>\n    </tr>\n  </thead>\n  <tbody>\n    <tr>\n      <th>0</th>\n      <td>2020-03-23 12:21:59.531987</td>\n      <td>80:19:34:ac:7d:17</td>\n      <td>Intel Corporate</td>\n      <td></td>\n      <td></td>\n      <td>-20.0</td>\n    </tr>\n    <tr>\n      <th>1</th>\n      <td>2020-03-30 12:10:58.450316</td>\n      <td>d2:3a:a0:a0:fd:2a</td>\n      <td>UNKNOWN</td>\n      <td></td>\n      <td></td>\n      <td>-70.0</td>\n    </tr>\n    <tr>\n      <th>2</th>\n      <td>2020-03-30 12:11:25.636282</td>\n      <td>0c:70:4a:ff:52:91</td>\n      <td>UNKNOWN</td>\n      <td></td>\n      <td></td>\n      <td>-83.0</td>\n    </tr>\n    <tr>\n      <th>3</th>\n      <td>2020-03-30 12:11:26.087794</td>\n      <td>0c:70:4a:ff:52:91</td>\n      <td>UNKNOWN</td>\n      <td></td>\n      <td></td>\n      <td>-80.0</td>\n    </tr>\n    <tr>\n      <th>4</th>\n      <td>2020-03-30 12:12:45.368070</td>\n      <td>1c:91:48:98:88:4a</td>\n      <td>Apple, Inc.</td>\n      <td></td>\n      <td></td>\n      <td>-87.0</td>\n    </tr>\n    <tr>\n      <th>...</th>\n      <td>...</td>\n      <td>...</td>\n      <td>...</td>\n      <td>...</td>\n      <td>...</td>\n      <td>...</td>\n    </tr>\n    <tr>\n      <th>499995</th>\n      <td>2020-06-22 16:59:24.350042</td>\n      <td>2a:cf:5e:c6:de:0c</td>\n      <td>UNKNOWN</td>\n      <td></td>\n      <td></td>\n      <td>-57.0</td>\n    </tr>\n    <tr>\n      <th>499996</th>\n      <td>2020-06-22 16:59:24.494246</td>\n      <td>2a:cf:5e:c6:de:0c</td>\n      <td>UNKNOWN</td>\n      <td></td>\n      <td></td>\n      <td>-56.0</td>\n    </tr>\n    <tr>\n      <th>499997</th>\n      <td>2020-06-22 16:59:27.536261</td>\n      <td>b8:90:47:1a:31:f4</td>\n      <td>UNKNOWN</td>\n      <td></td>\n      <td></td>\n      <td>-64.0</td>\n    </tr>\n    <tr>\n      <th>499998</th>\n      <td>2020-06-22 16:59:27.641724</td>\n      <td>b8:90:47:1a:31:f4</td>\n      <td>UNKNOWN</td>\n      <td></td>\n      <td></td>\n      <td>-65.0</td>\n    </tr>\n    <tr>\n      <th>499999</th>\n      <td>2020-06-22 16:59:29.888430</td>\n      <td>4a:ba:39:77:ac:7c</td>\n      <td>UNKNOWN</td>\n      <td></td>\n      <td></td>\n      <td>-65.0</td>\n    </tr>\n  </tbody>\n</table>\n<p>500000 rows × 6 columns</p>\n</div>"
     },
     "metadata": {},
     "execution_count": 8
    }
   ],
   "source": [
    "data"
   ]
  },
  {
   "cell_type": "code",
   "execution_count": 9,
   "metadata": {},
   "outputs": [],
   "source": [
    "my_mac = 'e4:0e:ee:**:**:**'"
   ]
  },
  {
   "cell_type": "code",
   "execution_count": 14,
   "metadata": {},
   "outputs": [],
   "source": [
    "my_data = data[data.mac == my_mac]"
   ]
  },
  {
   "cell_type": "code",
   "execution_count": 15,
   "metadata": {},
   "outputs": [],
   "source": [
    "min, max = my_data.datetime.min(), my_data.datetime.max()"
   ]
  },
  {
   "cell_type": "code",
   "execution_count": 17,
   "metadata": {},
   "outputs": [],
   "source": [
    "range = pd.date_range(min, max)"
   ]
  },
  {
   "cell_type": "code",
   "execution_count": 18,
   "metadata": {},
   "outputs": [
    {
     "output_type": "execute_result",
     "data": {
      "text/plain": "DatetimeIndex(['2020-03-30 12:49:29.388366', '2020-03-31 12:49:29.388366',\n               '2020-04-01 12:49:29.388366', '2020-04-02 12:49:29.388366',\n               '2020-04-03 12:49:29.388366', '2020-04-04 12:49:29.388366',\n               '2020-04-05 12:49:29.388366', '2020-04-06 12:49:29.388366',\n               '2020-04-07 12:49:29.388366', '2020-04-08 12:49:29.388366',\n               '2020-04-09 12:49:29.388366', '2020-04-10 12:49:29.388366',\n               '2020-04-11 12:49:29.388366', '2020-04-12 12:49:29.388366',\n               '2020-04-13 12:49:29.388366', '2020-04-14 12:49:29.388366',\n               '2020-04-15 12:49:29.388366', '2020-04-16 12:49:29.388366',\n               '2020-04-17 12:49:29.388366', '2020-04-18 12:49:29.388366',\n               '2020-04-19 12:49:29.388366', '2020-04-20 12:49:29.388366',\n               '2020-04-21 12:49:29.388366', '2020-04-22 12:49:29.388366',\n               '2020-04-23 12:49:29.388366', '2020-04-24 12:49:29.388366',\n               '2020-04-25 12:49:29.388366', '2020-04-26 12:49:29.388366',\n               '2020-04-27 12:49:29.388366', '2020-04-28 12:49:29.388366',\n               '2020-04-29 12:49:29.388366', '2020-04-30 12:49:29.388366',\n               '2020-05-01 12:49:29.388366', '2020-05-02 12:49:29.388366',\n               '2020-05-03 12:49:29.388366', '2020-05-04 12:49:29.388366',\n               '2020-05-05 12:49:29.388366', '2020-05-06 12:49:29.388366',\n               '2020-05-07 12:49:29.388366', '2020-05-08 12:49:29.388366',\n               '2020-05-09 12:49:29.388366', '2020-05-10 12:49:29.388366',\n               '2020-05-11 12:49:29.388366', '2020-05-12 12:49:29.388366',\n               '2020-05-13 12:49:29.388366', '2020-05-14 12:49:29.388366',\n               '2020-05-15 12:49:29.388366', '2020-05-16 12:49:29.388366',\n               '2020-05-17 12:49:29.388366', '2020-05-18 12:49:29.388366',\n               '2020-05-19 12:49:29.388366', '2020-05-20 12:49:29.388366',\n               '2020-05-21 12:49:29.388366', '2020-05-22 12:49:29.388366',\n               '2020-05-23 12:49:29.388366', '2020-05-24 12:49:29.388366',\n               '2020-05-25 12:49:29.388366', '2020-05-26 12:49:29.388366',\n               '2020-05-27 12:49:29.388366', '2020-05-28 12:49:29.388366',\n               '2020-05-29 12:49:29.388366', '2020-05-30 12:49:29.388366',\n               '2020-05-31 12:49:29.388366', '2020-06-01 12:49:29.388366',\n               '2020-06-02 12:49:29.388366', '2020-06-03 12:49:29.388366',\n               '2020-06-04 12:49:29.388366', '2020-06-05 12:49:29.388366',\n               '2020-06-06 12:49:29.388366', '2020-06-07 12:49:29.388366',\n               '2020-06-08 12:49:29.388366', '2020-06-09 12:49:29.388366',\n               '2020-06-10 12:49:29.388366', '2020-06-11 12:49:29.388366',\n               '2020-06-12 12:49:29.388366', '2020-06-13 12:49:29.388366',\n               '2020-06-14 12:49:29.388366', '2020-06-15 12:49:29.388366',\n               '2020-06-16 12:49:29.388366', '2020-06-17 12:49:29.388366',\n               '2020-06-18 12:49:29.388366', '2020-06-19 12:49:29.388366',\n               '2020-06-20 12:49:29.388366', '2020-06-21 12:49:29.388366',\n               '2020-06-22 12:49:29.388366'],\n              dtype='datetime64[ns]', freq='D')"
     },
     "metadata": {},
     "execution_count": 18
    }
   ],
   "source": [
    "# Meine mac zeit werte boolean über range plotten (da/nicht da)"
   ]
  },
  {
   "cell_type": "code",
   "execution_count": null,
   "metadata": {},
   "outputs": [],
   "source": []
  },
  {
   "cell_type": "code",
   "execution_count": null,
   "metadata": {},
   "outputs": [],
   "source": []
  },
  {
   "cell_type": "code",
   "execution_count": null,
   "metadata": {},
   "outputs": [],
   "source": []
  },
  {
   "cell_type": "code",
   "execution_count": null,
   "metadata": {},
   "outputs": [],
   "source": []
  },
  {
   "cell_type": "code",
   "execution_count": null,
   "metadata": {},
   "outputs": [],
   "source": []
  },
  {
   "cell_type": "code",
   "execution_count": null,
   "metadata": {},
   "outputs": [],
   "source": [
    "len(data.macaddress.unique())"
   ]
  },
  {
   "cell_type": "code",
   "execution_count": null,
   "metadata": {},
   "outputs": [],
   "source": [
    "anonymized = data.loc[data.macaddress.str.contains(r'1\\d$', regex=True)]"
   ]
  },
  {
   "cell_type": "code",
   "execution_count": null,
   "metadata": {},
   "outputs": [],
   "source": [
    "clear = data.loc[~data.macaddress.str.contains(r'1\\d$', regex=True)]"
   ]
  },
  {
   "cell_type": "code",
   "execution_count": null,
   "metadata": {},
   "outputs": [],
   "source": [
    "px.scatter(data, x='datetime', y='rssi', color='make')"
   ]
  },
  {
   "cell_type": "code",
   "execution_count": null,
   "metadata": {},
   "outputs": [],
   "source": [
    "yesterday=data.loc[(data['datetime'] > datetime(2020,5,8)) & (data['datetime'] <= datetime(2020,5,9))]"
   ]
  },
  {
   "cell_type": "code",
   "execution_count": null,
   "metadata": {},
   "outputs": [],
   "source": [
    "px.scatter(yesterday, x='macaddress', y='rssi', color='make', width=1500)"
   ]
  },
  {
   "cell_type": "code",
   "execution_count": null,
   "metadata": {},
   "outputs": [],
   "source": [
    "yesterday_12h = data[(data.datetime.dt.day == 8) & (data.datetime.dt.month == 5) & (data.datetime.dt.hour == 12)]\n",
    "yesterday.head()"
   ]
  },
  {
   "cell_type": "code",
   "execution_count": null,
   "metadata": {},
   "outputs": [],
   "source": [
    "burst = pd.DataFrame()\n",
    "burst['mac'] = yesterday_12h.macaddress.unique()\n",
    "burst.head()"
   ]
  },
  {
   "cell_type": "code",
   "execution_count": null,
   "metadata": {},
   "outputs": [],
   "source": [
    "for dt, mac, _, _, _, _ in yesterday_12h.values:\n",
    "    print(dt.minute, mac)\n",
    "    break"
   ]
  },
  {
   "cell_type": "code",
   "execution_count": null,
   "metadata": {},
   "outputs": [],
   "source": [
    "min_burst={}\n",
    "\n",
    "for mac in yesterday_12h.macaddress.unique():\n",
    "        min_burst.update({mac: {i: 0 for i in range(0, 60)}})\n",
    "\n"
   ]
  },
  {
   "cell_type": "code",
   "execution_count": null,
   "metadata": {},
   "outputs": [],
   "source": [
    "for dt, mac, _, _, _, _ in yesterday_12h.values:\n",
    "    min_burst[mac][dt.minute] += 1"
   ]
  },
  {
   "cell_type": "code",
   "execution_count": null,
   "metadata": {},
   "outputs": [],
   "source": [
    "mb={i: {} for i in range(0, 60)}\n",
    "for dt, mac, _, _, _, _ in yesterday_12h.values:\n",
    "    if mac in mb[dt.minute].keys():\n",
    "        mb[dt.minute][mac] += 1\n",
    "    else:\n",
    "        mb[dt.minute].update({mac: 1})\n",
    "mb\n",
    "dfmb = pd.DataFrame(mb).fillna(0)\n",
    "dfmb.head()"
   ]
  },
  {
   "cell_type": "code",
   "execution_count": null,
   "metadata": {},
   "outputs": [],
   "source": [
    "bursts = pd.DataFrame(min_burst, index=range(len(yesterday_12h.macaddress.unique())))\n",
    "\n",
    "bursts.head(2)"
   ]
  },
  {
   "cell_type": "code",
   "execution_count": null,
   "metadata": {},
   "outputs": [],
   "source": [
    "bursts.columns"
   ]
  },
  {
   "cell_type": "code",
   "execution_count": null,
   "metadata": {},
   "outputs": [],
   "source": [
    "import plotly.graph_objects as go\n",
    "from plotly.colors import n_colors\n",
    "\n",
    "\n",
    "fig = go.Figure(data=[go.Table(\n",
    "  cells=dict(values=[bursts[column] for column in bursts.columns],\n",
    "    #line_color=[np.array(colors)[a],np.array(colors)[b], np.array(colors)[c]],\n",
    "    #fill_color=[np.array(colors)[a],np.array(colors)[b], np.array(colors)[c]],\n",
    "    ))\n",
    "])\n",
    "\n",
    "fig.show()"
   ]
  },
  {
   "cell_type": "code",
   "execution_count": null,
   "metadata": {},
   "outputs": [],
   "source": [
    "clear.macaddress.unique()"
   ]
  },
  {
   "cell_type": "code",
   "execution_count": null,
   "metadata": {},
   "outputs": [],
   "source": [
    "macs_count = data.macaddress.value_counts()\n",
    "macs_count.values"
   ]
  },
  {
   "cell_type": "code",
   "execution_count": null,
   "metadata": {},
   "outputs": [],
   "source": [
    "px.line(x=macs_count.index, y=macs_count.values)"
   ]
  },
  {
   "cell_type": "code",
   "execution_count": null,
   "metadata": {},
   "outputs": [],
   "source": [
    "dev_1 = data[data.macaddress == '80:19:34:ac:7d:17']"
   ]
  },
  {
   "cell_type": "code",
   "execution_count": null,
   "metadata": {},
   "outputs": [],
   "source": [
    "dev_1"
   ]
  },
  {
   "cell_type": "code",
   "execution_count": null,
   "metadata": {},
   "outputs": [],
   "source": [
    "px.scatter(dev_1, 'datetime', 'rssi')"
   ]
  },
  {
   "cell_type": "code",
   "execution_count": null,
   "metadata": {},
   "outputs": [],
   "source": []
  },
  {
   "cell_type": "code",
   "execution_count": null,
   "metadata": {},
   "outputs": [],
   "source": [
    "px.scatter(dev_1[(dev_1.datetime.dt.day == 7) & (dev_1.datetime.dt.month == 5)], 'datetime', 'rssi')"
   ]
  }
 ],
 "metadata": {
  "kernelspec": {
   "display_name": "Python 3.8.3 64-bit ('venv': venv)",
   "language": "python",
   "name": "python38364bitvenvvenv652c07fa796c4c558565d3d0641ef7d3"
  },
  "language_info": {
   "codemirror_mode": {
    "name": "ipython",
    "version": 3
   },
   "file_extension": ".py",
   "mimetype": "text/x-python",
   "name": "python",
   "nbconvert_exporter": "python",
   "pygments_lexer": "ipython3",
   "version": "3.8.3-final"
  }
 },
 "nbformat": 4,
 "nbformat_minor": 4
}